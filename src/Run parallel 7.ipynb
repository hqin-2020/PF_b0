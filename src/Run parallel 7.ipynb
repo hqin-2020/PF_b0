{
 "cells": [
  {
   "cell_type": "code",
   "execution_count": 1,
   "id": "107bfeb6",
   "metadata": {},
   "outputs": [],
   "source": [
    "import numpy as np\n",
    "import scipy as sp\n",
    "import pandas as pd\n",
    "import matplotlib.pyplot as plt\n",
    "import seaborn as sns\n",
    "import time\n",
    "from tqdm import tqdm\n",
    "import pickle\n",
    "import os\n",
    "import multiprocessing\n",
    "\n",
    "from PF_Aso1_0 import *\n",
    "\n",
    "workdir = os.path.dirname(os.getcwd())\n",
    "srcdir = os.getcwd()\n",
    "datadir = workdir + '/data/'\n",
    "outputdir = workdir + '/output/'"
   ]
  },
  {
   "cell_type": "code",
   "execution_count": 2,
   "id": "3fd8b54a",
   "metadata": {},
   "outputs": [],
   "source": [
    "seed = 7\n",
    "\n",
    "obs_series = pd.read_csv(datadir + 'data.csv', delimiter=',')\n",
    "obs_series = np.array(obs_series.iloc[:,1:]).T\n",
    "T = obs_series.shape[1]\n",
    "N = 30000\n",
    "Λ_scale = 1\n",
    "cd_scale = 1"
   ]
  },
  {
   "cell_type": "code",
   "execution_count": 3,
   "id": "f8d2996e",
   "metadata": {},
   "outputs": [
    {
     "name": "stderr",
     "output_type": "stream",
     "text": [
      "100%|███████████████████████████████████████| 282/282 [5:05:51<00:00, 65.08s/it]\n"
     ]
    }
   ],
   "source": [
    "if __name__ == '__main__':\n",
    "    \n",
    "    D_0 = obs_series[:,[0]]\n",
    "    θXHν_0 = []\n",
    "    for i in range(N):\n",
    "        θXHν_0.append(init(D_0, Λ_scale, cd_scale))\n",
    "\n",
    "    particle_series = [θXHν_0]\n",
    "    particle_TEMP_series = [θXHν_0]\n",
    "    w_series = [np.ones(N)/N]\n",
    "    count_series = [np.ones(N)]\n",
    "\n",
    "    for t in tqdm(range(T-1)):\n",
    "\n",
    "        D_t_next = obs_series[:,[t+1]]\n",
    "        input_t = [[particle_series[-1][i][1], particle_series[-1][i][2], D_t_next, seed+t+i] for i in range(N)]\n",
    "\n",
    "\n",
    "        pool = multiprocessing.Pool()\n",
    "        output_t = pool.map(update_θXHν, input_t)      \n",
    "        particle_TEMP_series.append(output_t)\n",
    "\n",
    "        ν_t = [i[3] for i in output_t]\n",
    "        w_t_next = ν_t/np.sum(ν_t)\n",
    "        try:\n",
    "            count_all = sp.stats.multinomial.rvs(N, w_t_next)\n",
    "        except:\n",
    "            for i in range(N):\n",
    "                if w_t_next[i]>(np.sum(w_t_next[:-1]) - 1):\n",
    "                    w_t_next[i] = w_t_next[i] - (np.sum(w_t_next[:-1]) - 1)\n",
    "                    break\n",
    "            count_all = sp.stats.multinomial.rvs(N, w_t_next)\n",
    "        count_series.append(count_all)\n",
    "        w_series.append(w_t_next)\n",
    "        particle_t_next = []\n",
    "        for i in range(N):\n",
    "            if count_all[i] != 0:\n",
    "                for n in range(count_all[i]):\n",
    "                    particle_t_next.append(output_t[i])    \n",
    "        particle_series.append(particle_t_next)"
   ]
  },
  {
   "cell_type": "code",
   "execution_count": 5,
   "id": "a7c9e33a",
   "metadata": {},
   "outputs": [
    {
     "name": "stderr",
     "output_type": "stream",
     "text": [
      " 99%|████████████████████████████████████████▋| 281/283 [59:46<00:25, 12.76s/it]\n"
     ]
    },
    {
     "ename": "OSError",
     "evalue": "[Errno 28] No space left on device",
     "output_type": "error",
     "traceback": [
      "\u001b[0;31m---------------------------------------------------------------------------\u001b[0m",
      "\u001b[0;31mOSError\u001b[0m                                   Traceback (most recent call last)",
      "\u001b[0;32m/var/folders/xt/73vlgmp55j7f4pnk953fkffr0000gp/T/ipykernel_6012/2889763840.py\u001b[0m in \u001b[0;36m<module>\u001b[0;34m\u001b[0m\n\u001b[1;32m      8\u001b[0m \u001b[0;32mfor\u001b[0m \u001b[0mt\u001b[0m \u001b[0;32min\u001b[0m \u001b[0mtqdm\u001b[0m\u001b[0;34m(\u001b[0m\u001b[0mrange\u001b[0m\u001b[0;34m(\u001b[0m\u001b[0mT\u001b[0m\u001b[0;34m)\u001b[0m\u001b[0;34m)\u001b[0m\u001b[0;34m:\u001b[0m\u001b[0;34m\u001b[0m\u001b[0;34m\u001b[0m\u001b[0m\n\u001b[1;32m      9\u001b[0m     \u001b[0;32mwith\u001b[0m \u001b[0mopen\u001b[0m\u001b[0;34m(\u001b[0m\u001b[0mcasedir\u001b[0m \u001b[0;34m+\u001b[0m \u001b[0;34m'particle_TEMP_series_'\u001b[0m\u001b[0;34m+\u001b[0m\u001b[0mstr\u001b[0m\u001b[0;34m(\u001b[0m\u001b[0mt\u001b[0m\u001b[0;34m)\u001b[0m\u001b[0;34m+\u001b[0m\u001b[0;34m'.pkl'\u001b[0m\u001b[0;34m,\u001b[0m \u001b[0;34m'wb'\u001b[0m\u001b[0;34m)\u001b[0m \u001b[0;32mas\u001b[0m \u001b[0mf\u001b[0m\u001b[0;34m:\u001b[0m\u001b[0;34m\u001b[0m\u001b[0;34m\u001b[0m\u001b[0m\n\u001b[0;32m---> 10\u001b[0;31m            \u001b[0mpickle\u001b[0m\u001b[0;34m.\u001b[0m\u001b[0mdump\u001b[0m\u001b[0;34m(\u001b[0m\u001b[0mparticle_TEMP_series\u001b[0m\u001b[0;34m[\u001b[0m\u001b[0mt\u001b[0m\u001b[0;34m]\u001b[0m\u001b[0;34m,\u001b[0m \u001b[0mf\u001b[0m\u001b[0;34m)\u001b[0m\u001b[0;34m\u001b[0m\u001b[0;34m\u001b[0m\u001b[0m\n\u001b[0m\u001b[1;32m     11\u001b[0m     \u001b[0;32mwith\u001b[0m \u001b[0mopen\u001b[0m\u001b[0;34m(\u001b[0m\u001b[0mcasedir\u001b[0m \u001b[0;34m+\u001b[0m \u001b[0;34m'count_series_'\u001b[0m\u001b[0;34m+\u001b[0m\u001b[0mstr\u001b[0m\u001b[0;34m(\u001b[0m\u001b[0mt\u001b[0m\u001b[0;34m)\u001b[0m\u001b[0;34m+\u001b[0m\u001b[0;34m'.pkl'\u001b[0m\u001b[0;34m,\u001b[0m \u001b[0;34m'wb'\u001b[0m\u001b[0;34m)\u001b[0m \u001b[0;32mas\u001b[0m \u001b[0mf\u001b[0m\u001b[0;34m:\u001b[0m\u001b[0;34m\u001b[0m\u001b[0;34m\u001b[0m\u001b[0m\n\u001b[1;32m     12\u001b[0m            \u001b[0mpickle\u001b[0m\u001b[0;34m.\u001b[0m\u001b[0mdump\u001b[0m\u001b[0;34m(\u001b[0m\u001b[0mcount_series\u001b[0m\u001b[0;34m[\u001b[0m\u001b[0mt\u001b[0m\u001b[0;34m]\u001b[0m\u001b[0;34m,\u001b[0m \u001b[0mf\u001b[0m\u001b[0;34m)\u001b[0m\u001b[0;34m\u001b[0m\u001b[0;34m\u001b[0m\u001b[0m\n",
      "\u001b[0;31mOSError\u001b[0m: [Errno 28] No space left on device"
     ]
    }
   ],
   "source": [
    "case = 'seed = ' + str(seed) + ', T = ' + str(T) + ', N = ' + str(N) + ', Λ_scale = ' + str(Λ_scale) + ', cd_scale = ' + str(cd_scale)\n",
    "try: \n",
    "    casedir = outputdir + case  + '/'\n",
    "    os.mkdir(casedir)\n",
    "except:\n",
    "    casedir = outputdir + case  + '/'\n",
    "\n",
    "for t in tqdm(range(T)):\n",
    "    with open(casedir + 'particle_TEMP_series_'+str(t)+'.pkl', 'wb') as f:\n",
    "           pickle.dump(particle_TEMP_series[t], f)\n",
    "    with open(casedir + 'count_series_'+str(t)+'.pkl', 'wb') as f:\n",
    "           pickle.dump(count_series[t], f)\n",
    "    with open(casedir + 'particle_series_'+str(t)+'.pkl', 'wb') as f:\n",
    "           pickle.dump(particle_series[t], f)\n",
    "    with open(casedir + 'w_series_'+str(t)+'.pkl', 'wb') as f:\n",
    "           pickle.dump(w_series[t], f)"
   ]
  },
  {
   "cell_type": "code",
   "execution_count": null,
   "id": "f13bdf4b",
   "metadata": {},
   "outputs": [],
   "source": []
  }
 ],
 "metadata": {
  "kernelspec": {
   "display_name": "Python 3 (ipykernel)",
   "language": "python",
   "name": "python3"
  },
  "language_info": {
   "codemirror_mode": {
    "name": "ipython",
    "version": 3
   },
   "file_extension": ".py",
   "mimetype": "text/x-python",
   "name": "python",
   "nbconvert_exporter": "python",
   "pygments_lexer": "ipython3",
   "version": "3.8.12"
  }
 },
 "nbformat": 4,
 "nbformat_minor": 5
}
