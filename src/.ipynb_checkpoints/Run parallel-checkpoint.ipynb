{
 "cells": [
  {
   "cell_type": "code",
   "execution_count": 1,
   "id": "107bfeb6",
   "metadata": {},
   "outputs": [],
   "source": [
    "import numpy as np\n",
    "import scipy as sp\n",
    "import pandas as pd\n",
    "import matplotlib.pyplot as plt\n",
    "import seaborn as sns\n",
    "import time\n",
    "from tqdm import tqdm\n",
    "import pickle\n",
    "import os\n",
    "import multiprocessing\n",
    "\n",
    "from PF_Aso1_0 import *\n",
    "\n",
    "workdir = os.path.dirname(os.getcwd())\n",
    "srcdir = os.getcwd()\n",
    "datadir = workdir + '/data/'\n",
    "outputdir = workdir + '/output/'"
   ]
  },
  {
   "cell_type": "code",
   "execution_count": 2,
   "id": "3fd8b54a",
   "metadata": {},
   "outputs": [],
   "source": [
    "seed = 7\n",
    "\n",
    "obs_series = pd.read_csv(datadir + 'data.csv', delimiter=',')\n",
    "obs_series = np.array(obs_series.iloc[:,1:]).T\n",
    "obs_series = obs_series[:,0:10]\n",
    "T = obs_series.shape[1]\n",
    "N = 10\n",
    "Λ_scale = 1\n",
    "cd_scale = 1"
   ]
  },
  {
   "cell_type": "code",
   "execution_count": 3,
   "id": "f8d2996e",
   "metadata": {},
   "outputs": [
    {
     "name": "stderr",
     "output_type": "stream",
     "text": [
      "100%|███████████████████████████████████████████████████████████████████████████████████████████████████████████████████████████████████████████████████████████████████████| 9/9 [00:26<00:00,  2.89s/it]\n"
     ]
    }
   ],
   "source": [
    "if __name__ == '__main__':\n",
    "    \n",
    "    D_0 = obs_series[:,[0]]\n",
    "    θXHν_0 = []\n",
    "    for i in range(N):\n",
    "        θXHν_0.append(init(D_0, Λ_scale, cd_scale))\n",
    "\n",
    "    particle_series = [θXHν_0]\n",
    "    particle_TEMP_series = [θXHν_0]\n",
    "    w_series = [np.ones(N)/N]\n",
    "    count_series = [np.ones(N)]\n",
    "\n",
    "    for t in tqdm(range(T-1)):\n",
    "\n",
    "        D_t_next = obs_series[:,[t+1]]\n",
    "        input_t = [[particle_series[-1][i][1], particle_series[-1][i][2], D_t_next, seed+t+i] for i in range(N)]\n",
    "\n",
    "\n",
    "        pool = multiprocessing.Pool()\n",
    "        output_t = pool.map(update_θXHν, input_t)      \n",
    "        particle_TEMP_series.append(output_t)\n",
    "\n",
    "        ν_t = [i[3] for i in output_t]\n",
    "        w_t_next = ν_t/np.sum(ν_t)\n",
    "        try:\n",
    "            count_all = sp.stats.multinomial.rvs(N, w_t_next)\n",
    "        except:\n",
    "            for i in range(N):\n",
    "                if w_t_next[i]>(np.sum(w_t_next[:-1]) - 1):\n",
    "                    w_t_next[i] = w_t_next[i] - (np.sum(w_t_next[:-1]) - 1)\n",
    "                    break\n",
    "            count_all = sp.stats.multinomial.rvs(N, w_t_next)\n",
    "        count_series.append(count_all)\n",
    "        w_series.append(w_t_next)\n",
    "        particle_t_next = []\n",
    "        for i in range(N):\n",
    "            if count_all[i] != 0:\n",
    "                for n in range(count_all[i]):\n",
    "                    particle_t_next.append(output_t[i])    \n",
    "        particle_series.append(particle_t_next)"
   ]
  },
  {
   "cell_type": "code",
   "execution_count": 4,
   "id": "a7c9e33a",
   "metadata": {},
   "outputs": [
    {
     "name": "stderr",
     "output_type": "stream",
     "text": [
      "100%|████████████████████████████████████████████████████████████████████████████████████████████████████████████████████████████████████████████████████████████████████| 10/10 [00:00<00:00, 788.14it/s]\n"
     ]
    }
   ],
   "source": [
    "case = 'seed = ' + str(seed) + ', T = ' + str(T) + ', N = ' + str(N) + ', Λ_scale = ' + str(Λ_scale) + ', cd_scale = ' + str(cd_scale)\n",
    "try: \n",
    "    casedir = outputdir + case  + '/'\n",
    "    os.mkdir(casedir)\n",
    "except:\n",
    "    casedir = outputdir + case  + '/'\n",
    "\n",
    "for t in tqdm(range(T)):\n",
    "    with open(casedir + 'particle_TEMP_series_'+str(t)+'.pkl', 'wb') as f:\n",
    "           pickle.dump(particle_TEMP_series[t], f)\n",
    "    with open(casedir + 'count_series_'+str(t)+'.pkl', 'wb') as f:\n",
    "           pickle.dump(count_series[t], f)\n",
    "    with open(casedir + 'particle_series_'+str(t)+'.pkl', 'wb') as f:\n",
    "           pickle.dump(particle_series[t], f)\n",
    "    with open(casedir + 'w_series_'+str(t)+'.pkl', 'wb') as f:\n",
    "           pickle.dump(w_series[t], f)"
   ]
  },
  {
   "cell_type": "code",
   "execution_count": 5,
   "id": "cbf1b633",
   "metadata": {},
   "outputs": [
    {
     "data": {
      "text/plain": [
       "{'Azo': array([[0.        ],\n",
       "        [0.47773303]]),\n",
       " 'Azz': array([[ 1.        ,  1.        ],\n",
       "        [ 0.        , -0.15673739]]),\n",
       " 'Bz': array([[0.72122543, 0.        ],\n",
       "        [0.        , 1.21773272]]),\n",
       " 'Aso': array([[ 0.        ],\n",
       "        [-0.2218847 ],\n",
       "        [ 0.10875928]]),\n",
       " 'Ass': array([[ 0.22535811, -0.30679211, -0.68864611],\n",
       "        [ 0.13805697, -0.15152326, -0.36451096],\n",
       "        [-1.25215677,  0.21252211,  0.10058913]]),\n",
       " 'Bs': array([[ 0.49870345,  0.        ,  0.        ],\n",
       "        [ 0.40217923,  0.37425038,  0.        ],\n",
       "        [-0.09999125, -0.14740374,  0.48510225]]),\n",
       " 'J_inv': array([[ 1.        ,  0.        ,  0.        ],\n",
       "        [-0.80644966,  1.        ,  0.        ],\n",
       "        [-0.11712906,  0.39386398,  1.        ]]),\n",
       " 'λ_iter': 1,\n",
       " 'Ass_iter': 1}"
      ]
     },
     "execution_count": 5,
     "metadata": {},
     "output_type": "execute_result"
    }
   ],
   "source": [
    "particle_TEMP_series[8][1][0]"
   ]
  },
  {
   "cell_type": "code",
   "execution_count": 6,
   "id": "3d1d0be8",
   "metadata": {},
   "outputs": [
    {
     "data": {
      "text/plain": [
       "{'Azo': array([[ 0.       ],\n",
       "        [-0.6178872]]),\n",
       " 'Azz': array([[ 1.        ,  1.        ],\n",
       "        [ 0.        , -0.36883838]]),\n",
       " 'Bz': array([[0.64767997, 0.        ],\n",
       "        [0.        , 0.46069716]]),\n",
       " 'Aso': array([[ 0.        ],\n",
       "        [ 0.41507483],\n",
       "        [-1.11770565]]),\n",
       " 'Ass': array([[ 0.32834243, -0.07405471,  0.05018953],\n",
       "        [-0.06976706, -0.67439712,  0.36416903],\n",
       "        [-0.11674388, -0.51463987,  0.63562628]]),\n",
       " 'Bs': array([[ 0.4207159 ,  0.        ,  0.        ],\n",
       "        [-0.00100773,  0.48095696,  0.        ],\n",
       "        [ 0.18804651, -0.1031852 ,  0.64156542]]),\n",
       " 'J_inv': array([[ 1.        ,  0.        ,  0.        ],\n",
       "        [ 0.00239528,  1.        ,  0.        ],\n",
       "        [-0.44645403,  0.21454145,  1.        ]]),\n",
       " 'λ_iter': 1,\n",
       " 'Ass_iter': 1}"
      ]
     },
     "execution_count": 6,
     "metadata": {},
     "output_type": "execute_result"
    }
   ],
   "source": [
    "particle_TEMP_series[8][3][0]"
   ]
  },
  {
   "cell_type": "code",
   "execution_count": null,
   "id": "f13bdf4b",
   "metadata": {},
   "outputs": [],
   "source": []
  }
 ],
 "metadata": {
  "kernelspec": {
   "display_name": "Python 3 (ipykernel)",
   "language": "python",
   "name": "python3"
  },
  "language_info": {
   "codemirror_mode": {
    "name": "ipython",
    "version": 3
   },
   "file_extension": ".py",
   "mimetype": "text/x-python",
   "name": "python",
   "nbconvert_exporter": "python",
   "pygments_lexer": "ipython3",
   "version": "3.9.12"
  }
 },
 "nbformat": 4,
 "nbformat_minor": 5
}
